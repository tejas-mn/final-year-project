{
 "cells": [
  {
   "cell_type": "code",
   "execution_count": null,
   "id": "b40c93bb",
   "metadata": {},
   "outputs": [
    {
     "name": "stdout",
     "output_type": "stream",
     "text": [
      "1/1 [==============================] - 0s 334ms/step\n",
      "1/1 [==============================] - 0s 60ms/step\n",
      "1/1 [==============================] - 0s 69ms/step\n",
      "1/1 [==============================] - 0s 69ms/step\n",
      "1/1 [==============================] - 0s 56ms/step\n",
      "1/1 [==============================] - 0s 69ms/step\n",
      "1/1 [==============================] - 0s 73ms/step\n",
      "1/1 [==============================] - 0s 59ms/step\n",
      "1/1 [==============================] - 0s 64ms/step\n",
      "1/1 [==============================] - 0s 64ms/step\n"
     ]
    }
   ],
   "source": [
    "import numpy as np\n",
    "import cv2\n",
    "import pickle\n",
    "import tensorflow as tf\n",
    "from tensorflow.keras import models, layers\n",
    "import matplotlib.pyplot as plt\n",
    "from tensorflow import keras\n",
    "from keras.preprocessing.image import ImageDataGenerator\n",
    "import os\n",
    "import numpy as np\n",
    "import pandas as pd\n",
    "import matplotlib.pyplot as plt\n",
    "import seaborn as sns\n",
    "from keras.models import load_model\n",
    "\n",
    "#############################################\n",
    " \n",
    "frameWidth= 640         # CAMERA RESOLUTION\n",
    "frameHeight = 480\n",
    "brightness = 180\n",
    "threshold = 75        # PROBABLITY THRESHOLD\n",
    "font = cv2.FONT_HERSHEY_SIMPLEX\n",
    "##############################################\n",
    " \n",
    "# SETUP THE VIDEO CAMERA\n",
    "cap = cv2.VideoCapture(0)\n",
    "cap.set(3, frameWidth)\n",
    "cap.set(4, frameHeight)\n",
    "cap.set(10, brightness)\n",
    "# IMPORT THE TRANNIED MODEL\n",
    "model = load_model(\"../jupyter/Best_CNN_march_30_epoch.h5\")\n",
    " \n",
    "def grayscale(img):\n",
    "    img = cv2.cvtColor(img,cv2.COLOR_BGR2GRAY)\n",
    "    return img\n",
    "def equalize(img):\n",
    "    img =cv2.equalizeHist(img)\n",
    "    return img\n",
    "def preprocessing(img):\n",
    "    img = grayscale(img)\n",
    "    img = equalize(img)\n",
    "    img = img/255\n",
    "    return img\n",
    "\n",
    "class_names = [\"Early\", \"Late\", \"Healthy\"]\n",
    "\n",
    "while True: \n",
    "    # READ IMAGE\n",
    "    success, imgOrignal = cap.read()\n",
    "\n",
    "    # PROCESS IMAGE\n",
    "    img = np.asarray(imgOrignal)\n",
    "    img = cv2.resize(img, (256, 256))\n",
    "#     img = preprocessing(img)\n",
    "    cv2.imshow(\"Processed Image\", img)\n",
    "#     img = img.reshape(1, 32, 32, 1)\n",
    "    cv2.putText(imgOrignal, \"CLASS: \" , (20, 35), font, 0.75, (0, 0, 255), 2, cv2.LINE_AA)\n",
    "    cv2.putText(imgOrignal, \"PROBABILITY: \", (20, 75), font, 0.75, (0, 0, 255), 2, cv2.LINE_AA)\n",
    "    \n",
    "    # PREDICT IMAGE\n",
    "#     np_img = numpy.array(img)\n",
    "    img_array = tf.keras.preprocessing.image.img_to_array(img)\n",
    "    img_array = tf.expand_dims(img_array, 0)\n",
    "    predictions = model.predict(img_array)\n",
    "    predicted_class = class_names[np.argmax(predictions[0])]\n",
    "    confidence = round(100 * (np.max(predictions[0])), 2)\n",
    "    #print(predicted_class, confidence)\n",
    "\n",
    "    if confidence > threshold:\n",
    "        #print(getCalssName(classIndex))\n",
    "        cv2.putText(imgOrignal,predicted_class, (120, 35), font, 0.75, (0, 0, 255), 2, cv2.LINE_AA)\n",
    "        cv2.putText(imgOrignal, str(confidence)+\"%\", (180, 75), font, 0.75, (0, 0, 255), 2, cv2.LINE_AA)\n",
    "        cv2.imshow(\"Result\", imgOrignal)\n",
    "\n",
    "    if cv2.waitKey(1) and 0xFF == ord('q'):\n",
    "        break"
   ]
  },
  {
   "cell_type": "code",
   "execution_count": 6,
   "id": "ceeba808",
   "metadata": {},
   "outputs": [
    {
     "data": {
      "text/plain": [
       "[0, 1]"
      ]
     },
     "execution_count": 6,
     "metadata": {},
     "output_type": "execute_result"
    }
   ],
   "source": [
    "index = 0\n",
    "arr = []\n",
    "while True:\n",
    "    cap = cv2.VideoCapture(index)\n",
    "    if not cap.read()[0]:\n",
    "        break\n",
    "    else:\n",
    "        arr.append(index)\n",
    "    cap.release()\n",
    "    index += 1\n",
    "arr"
   ]
  },
  {
   "cell_type": "code",
   "execution_count": 2,
   "id": "3203c2c2",
   "metadata": {},
   "outputs": [
    {
     "name": "stdout",
     "output_type": "stream",
     "text": [
      "Defaulting to user installation because normal site-packages is not writeable\n",
      "Collecting device\n",
      "  Downloading device-0.1.tar.gz (3.1 kB)\n",
      "  Preparing metadata (setup.py): started\n",
      "  Preparing metadata (setup.py): finished with status 'done'\n",
      "Collecting requests==2.0.0\n",
      "  Downloading requests-2.0.0-py2.py3-none-any.whl (391 kB)\n",
      "     -------------------------------------- 391.1/391.1 kB 2.7 MB/s eta 0:00:00\n",
      "Building wheels for collected packages: device\n",
      "  Building wheel for device (setup.py): started\n",
      "  Building wheel for device (setup.py): finished with status 'done'\n",
      "  Created wheel for device: filename=device-0.1-py3-none-any.whl size=3334 sha256=211a909792612a32baf95d07d2c380e52abf3a033e699f786a69d73889ccde7d\n",
      "  Stored in directory: c:\\users\\user\\appdata\\local\\pip\\cache\\wheels\\50\\02\\3e\\d94d8f9a1fc09790997336ecd9ada34b0f96db52d687501a0a\n",
      "Successfully built device\n",
      "Installing collected packages: requests, device\n",
      "Successfully installed device-0.1 requests-2.0.0\n"
     ]
    },
    {
     "name": "stderr",
     "output_type": "stream",
     "text": [
      "ERROR: pip's dependency resolver does not currently take into account all the packages that are installed. This behaviour is the source of the following dependency conflicts.\n",
      "anaconda-project 0.11.1 requires ruamel-yaml, which is not installed.\n",
      "tensorboard 2.11.2 requires requests<3,>=2.21.0, but you have requests 2.0.0 which is incompatible.\n",
      "streamlit 1.20.0 requires requests>=2.4, but you have requests 2.0.0 which is incompatible.\n",
      "tldextract 3.2.0 requires requests>=2.1.0, but you have requests 2.0.0 which is incompatible.\n",
      "sphinx 5.0.2 requires requests>=2.5.0, but you have requests 2.0.0 which is incompatible.\n",
      "cookiecutter 1.7.3 requires requests>=2.23.0, but you have requests 2.0.0 which is incompatible.\n",
      "conda 22.9.0 requires requests>=2.20.1, but you have requests 2.0.0 which is incompatible.\n",
      "conda-repo-cli 1.0.20 requires clyent==1.2.1, but you have clyent 1.2.2 which is incompatible.\n",
      "conda-repo-cli 1.0.20 requires nbformat==5.4.0, but you have nbformat 5.5.0 which is incompatible.\n",
      "conda-repo-cli 1.0.20 requires requests==2.28.1, but you have requests 2.0.0 which is incompatible.\n",
      "anaconda-client 1.11.0 requires requests>=2.20.0, but you have requests 2.0.0 which is incompatible.\n"
     ]
    }
   ],
   "source": [
    "!pip install device"
   ]
  },
  {
   "cell_type": "code",
   "execution_count": null,
   "id": "1b0c0112",
   "metadata": {},
   "outputs": [],
   "source": []
  }
 ],
 "metadata": {
  "kernelspec": {
   "display_name": "Python 3 (ipykernel)",
   "language": "python",
   "name": "python3"
  },
  "language_info": {
   "codemirror_mode": {
    "name": "ipython",
    "version": 3
   },
   "file_extension": ".py",
   "mimetype": "text/x-python",
   "name": "python",
   "nbconvert_exporter": "python",
   "pygments_lexer": "ipython3",
   "version": "3.9.13"
  }
 },
 "nbformat": 4,
 "nbformat_minor": 5
}
